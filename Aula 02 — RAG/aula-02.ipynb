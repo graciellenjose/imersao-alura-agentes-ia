{
 "cells": [
  {
   "cell_type": "code",
   "execution_count": 1,
   "id": "056086a0",
   "metadata": {},
   "outputs": [],
   "source": [
    "!pip3 install -q --upgrade langchain langchain-google-genai google-generativeai\n",
    "!pip3 install -q python-dotenv"
   ]
  },
  {
   "cell_type": "markdown",
   "id": "dbe26254",
   "metadata": {},
   "source": [
    "## Aula 02 — RAG"
   ]
  },
  {
   "cell_type": "code",
   "execution_count": null,
   "id": "bc4a0793",
   "metadata": {},
   "outputs": [],
   "source": [
    "from langchain_google_genai import ChatGoogleGenerativeAI\n",
    "\n",
    "from dotenv import load_dotenv\n",
    "import os"
   ]
  },
  {
   "cell_type": "code",
   "execution_count": null,
   "id": "6c052e30",
   "metadata": {},
   "outputs": [],
   "source": [
    "load_dotenv()"
   ]
  },
  {
   "cell_type": "code",
   "execution_count": null,
   "id": "bf1a1f93",
   "metadata": {},
   "outputs": [],
   "source": [
    "GOOGLE_API_KEY = os.getenv(\"GEMINI_API_KEY\")"
   ]
  }
 ],
 "metadata": {
  "kernelspec": {
   "display_name": "env",
   "language": "python",
   "name": "python3"
  },
  "language_info": {
   "codemirror_mode": {
    "name": "ipython",
    "version": 3
   },
   "file_extension": ".py",
   "mimetype": "text/x-python",
   "name": "python",
   "nbconvert_exporter": "python",
   "pygments_lexer": "ipython3",
   "version": "3.13.7"
  }
 },
 "nbformat": 4,
 "nbformat_minor": 5
}
