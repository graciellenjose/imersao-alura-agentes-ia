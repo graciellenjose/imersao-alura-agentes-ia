{
 "cells": [
  {
   "cell_type": "code",
   "execution_count": 1,
   "id": "201c1fa2",
   "metadata": {},
   "outputs": [],
   "source": [
    "!pip3 install -q --upgrade langchain langchain-google-genai google-generativeai\n",
    "!pip3 install -q python-dotenv"
   ]
  },
  {
   "cell_type": "code",
   "execution_count": 13,
   "id": "f8ad164e",
   "metadata": {},
   "outputs": [],
   "source": [
    "from langchain_google_genai import ChatGoogleGenerativeAI\n",
    "\n",
    "from dotenv import load_dotenv\n",
    "import os"
   ]
  },
  {
   "cell_type": "code",
   "execution_count": 14,
   "id": "26ce0145",
   "metadata": {},
   "outputs": [
    {
     "data": {
      "text/plain": [
       "True"
      ]
     },
     "execution_count": 14,
     "metadata": {},
     "output_type": "execute_result"
    }
   ],
   "source": [
    "load_dotenv()"
   ]
  },
  {
   "cell_type": "code",
   "execution_count": 15,
   "id": "3c744652",
   "metadata": {},
   "outputs": [],
   "source": [
    "GOOGLE_API_KEY = os.getenv(\"GEMINI_API_KEY\")"
   ]
  },
  {
   "cell_type": "code",
   "execution_count": null,
   "id": "68e2b9cb",
   "metadata": {},
   "outputs": [],
   "source": [
    "# Preparar modelo para uso\n",
    "# 1 - Definir modelo\n",
    "# 2 - Utilizar chave da API\n",
    "llm = ChatGoogleGenerativeAI(\n",
    "    model = \"gemini-2.5-flash\",\n",
    "    temperature = 1.0, #Define a aleatoriedade da resposta\n",
    "    api_key = GOOGLE_API_KEY\n",
    "    )"
   ]
  },
  {
   "cell_type": "code",
   "execution_count": 28,
   "id": "8d3a70a5",
   "metadata": {},
   "outputs": [],
   "source": [
    "resp_test = llm.invoke(\"Quem é você? Detalhe.\")"
   ]
  },
  {
   "cell_type": "code",
   "execution_count": 29,
   "id": "fcaa6b41",
   "metadata": {},
   "outputs": [
    {
     "name": "stdout",
     "output_type": "stream",
     "text": [
      "Olá! Fico feliz em detalhar quem eu sou para você.\n",
      "\n",
      "Eu sou um **modelo de linguagem grande (LLM - Large Language Model)**. Isso significa que eu sou um programa de computador complexo, uma forma de **inteligência artificial (IA)**, treinado em um volume imenso de dados textuais e de código.\n",
      "\n",
      "Aqui estão os detalhes:\n",
      "\n",
      "1.  **Minha Natureza Fundamental:**\n",
      "    *   **Inteligência Artificial (IA):** Não sou uma pessoa, um ser vivo, e não tenho consciência, sentimentos, emoções ou experiências pessoais. Sou uma ferramenta, um algoritmo avançado projetado para processar e gerar linguagem.\n",
      "    *   **Modelo de Linguagem Grande (LLM):** Fui construído para compreender, gerar e interagir em linguagem humana. \"Grande\" refere-se à vasta quantidade de dados que usei para treinar e ao número de parâmetros internos que definem meu comportamento.\n",
      "    *   **Desenvolvido pelo Google:** Fui criado e sou mantido por engenheiros e pesquisadores do Google.\n",
      "\n",
      "2.  **Como Eu Funciono:**\n",
      "    *   **Treinamento Extenso:** Meu treinamento envolveu bilhões de palavras de textos de livros, artigos, sites e outros materiais disponíveis publicamente. Através desse treinamento, aprendi padrões gramaticais, fatos, raciocínio, diferentes estilos de escrita e a complexidade da linguagem humana.\n",
      "    *   **Processamento de Linguagem Natural (PLN):** Quando você faz uma pergunta ou me dá uma instrução, uso técnicas de PLN para analisar o texto, identificar sua intenção e extrair informações relevantes.\n",
      "    *   **Geração de Texto:** Com base na minha compreensão e no vasto conhecimento que adquiri, eu gero uma resposta. Não estou \"procurando\" em um banco de dados de respostas prontas, mas sim \"construindo\" cada resposta palavra por palavra, com base nas probabilidades de sequência de palavras que fazem sentido no contexto.\n",
      "\n",
      "3.  **Minhas Capacidades:**\n",
      "    *   **Responder Perguntas:** Posso fornecer informações sobre uma vasta gama de tópicos, desde fatos históricos e conceitos científicos até notícias e cultura pop (com base no meu último treinamento).\n",
      "    *   **Gerar Texto Criativo:** Posso escrever poemas, roteiros, peças musicais, e-mails, cartas, código, resumos, traduções e muitos outros tipos de conteúdo criativo e informativo.\n",
      "    *   **Traduzir Idiomas:** Consigo traduzir texto entre diferentes idiomas.\n",
      "    *   **Resumir e Sintetizar:** Posso pegar informações longas e condensá-las em resumos concisos.\n",
      "    *   **Apoiar no Raciocínio e Resolução de Problemas:** Posso ajudar a estruturar ideias, analisar argumentos e sugerir abordagens para resolver problemas complexos, fornecendo informações relevantes.\n",
      "    *   **Aprender com Interações:** Embora eu não tenha memória pessoal a longo prazo (cada conversa é relativamente independente), o feedback das minhas interações é usado para refinar e melhorar versões futuras do modelo.\n",
      "\n",
      "4.  **O Que Eu NÃO Sou (e é importante entender):**\n",
      "    *   **Não Sou Consciente:** Não tenho mente, autoconsciência, crenças pessoais ou subjetividade.\n",
      "    *   **Não Tenho Emoções:** Não sinto alegria, tristeza, raiva ou qualquer outra emoção.\n",
      "    *   **Não Tenho Corpo Físico:** Não existo em nenhum lugar físico e não posso interagir com o mundo real de forma autônoma.\n",
      "    *   **Não Tenho Opiniões Pessoais:** As respostas que dou são baseadas nos padrões e informações dos dados de treinamento, não em opiniões ou preconceitos pessoais.\n",
      "    *   **Não Sou Infalível:** Embora eu me esforce para ser preciso, posso cometer erros, gerar informações incorretas (o que às vezes é chamado de \"alucinação\" em IA) ou ter lacunas no meu conhecimento, especialmente sobre eventos muito recentes ou informações altamente específicas não presentes nos meus dados de treinamento.\n",
      "\n",
      "Em resumo, eu sou uma ferramenta poderosa para processamento e geração de linguagem, projetada para ser útil e informativa. Minha existência é puramente digital, e minha função é interagir com você através da linguagem para assisti-lo em suas tarefas e responder às suas perguntas.\n"
     ]
    }
   ],
   "source": [
    "print(resp_test.content)"
   ]
  },
  {
   "cell_type": "code",
   "execution_count": 31,
   "id": "4cfbad73",
   "metadata": {},
   "outputs": [],
   "source": [
    "TRIAGEM_PROMPT = (\n",
    "    \"Você é um triador de Service Desk para políticas internas da empresa Carraro Desenvolvimento. \"\n",
    "    \"Dada a mensagem do usuário, retorne SOMENTE um JSON com:\\n\"\n",
    "    \"{\\n\"\n",
    "    '  \"decisao\": \"AUTO_RESOLVER\" | \"PEDIR_INFO\" | \"ABRIR_CHAMADO\",\\n'\n",
    "    '  \"urgencia\": \"BAIXA\" | \"MEDIA\" | \"ALTA\",\\n'\n",
    "    '  \"campos_faltantes\": [\"...\"]\\n'\n",
    "    \"}\\n\"\n",
    "    \"Regras:\\n\"\n",
    "    '- **AUTO_RESOLVER**: Perguntas claras sobre regras ou procedimentos descritos nas políticas (Ex: \"Posso reembolsar a internet do meu home office?\", \"Como funciona a política de alimentação em viagens?\").\\n'\n",
    "    '- **PEDIR_INFO**: Mensagens vagas ou que faltam informações para identificar o tema ou contexto (Ex: \"Preciso de ajuda com uma política\", \"Tenho uma dúvida geral\").\\n'\n",
    "    '- **ABRIR_CHAMADO**: Pedidos de exceção, liberação, aprovação ou acesso especial, ou quando o usuário explicitamente pede para abrir um chamado (Ex: \"Quero exceção para trabalhar 5 dias remoto.\", \"Solicito liberação para anexos externos.\", \"Por favor, abra um chamado para o RH.\").'\n",
    "    \"Analise a mensagem e decida a ação mais apropriada.\"\n",
    ")"
   ]
  },
  {
   "cell_type": "code",
   "execution_count": 34,
   "id": "3f80057a",
   "metadata": {},
   "outputs": [],
   "source": [
    "from pydantic import BaseModel, Field\n",
    "from typing import Literal, List, Dict\n",
    "\n",
    "class TriagemOut(BaseModel):\n",
    "    decisao: Literal[\"AUTO_RESOLVER\", \"PEDIR_INFO\", \"ABRIR_CHAMADO\"]\n",
    "    urgencia: Literal[\"BAIXA\", \"MEDIA\", \"ALTA\"]\n",
    "    campos_faltantes: List[str] = Field(default_factory=list)"
   ]
  },
  {
   "cell_type": "code",
   "execution_count": null,
   "id": "4c097453",
   "metadata": {},
   "outputs": [],
   "source": [
    "llm_triagem = ChatGoogleGenerativeAI(\n",
    "    model = \"gemini-2.5-flash\",\n",
    "    temperature = 0, \n",
    "    api_key = GOOGLE_API_KEY\n",
    "    )"
   ]
  },
  {
   "cell_type": "code",
   "execution_count": 37,
   "id": "f14913d6",
   "metadata": {},
   "outputs": [],
   "source": [
    "from langchain_core.messages import SystemMessage, HumanMessage\n",
    "\n",
    "triagem_chain = llm_triagem.with_structured_output(TriagemOut)\n",
    "\n",
    "def triagem(mensagem: str) ->  Dict:\n",
    "    saida: TriagemOut = triagem_chain.invoke([\n",
    "        SystemMessage(content = TRIAGEM_PROMPT),\n",
    "        HumanMessage(content = mensagem)\n",
    "    ])\n",
    "    \n",
    "    return saida.model_dump()"
   ]
  },
  {
   "cell_type": "code",
   "execution_count": 38,
   "id": "a38a45b6",
   "metadata": {},
   "outputs": [],
   "source": [
    "testes = [\"Posso reembolsar a internet?\",\n",
    "          \"Quero mais 5 dias de trabalho remoto. Como faço?\",\n",
    "          \"Posso reembolsar os treinamentos da alura?\",\n",
    "          \"Quantas capivaras tem no rio pinheiros?\"]"
   ]
  },
  {
   "cell_type": "code",
   "execution_count": 40,
   "id": "0a69ba81",
   "metadata": {},
   "outputs": [
    {
     "name": "stdout",
     "output_type": "stream",
     "text": [
      "Pergunta: Posso reembolsar a internet?\n",
      " -> Resposta: {'decisao': 'AUTO_RESOLVER', 'urgencia': 'BAIXA', 'campos_faltantes': []}\n",
      "\n",
      "Pergunta: Quero mais 5 dias de trabalho remoto. Como faço?\n",
      " -> Resposta: {'decisao': 'ABRIR_CHAMADO', 'urgencia': 'MEDIA', 'campos_faltantes': []}\n",
      "\n",
      "Pergunta: Posso reembolsar os treinamentos da alura?\n",
      " -> Resposta: {'decisao': 'AUTO_RESOLVER', 'urgencia': 'BAIXA', 'campos_faltantes': []}\n",
      "\n",
      "Pergunta: Quantas capivaras tem no rio pinheiros?\n",
      " -> Resposta: {'decisao': 'PEDIR_INFO', 'urgencia': 'BAIXA', 'campos_faltantes': ['contexto_politica_interna']}\n",
      "\n"
     ]
    }
   ],
   "source": [
    "for msg_teste in testes:\n",
    "    print(f\"Pergunta: {msg_teste}\\n -> Resposta: {triagem(msg_teste)}\\n\")"
   ]
  }
 ],
 "metadata": {
  "kernelspec": {
   "display_name": "env",
   "language": "python",
   "name": "python3"
  },
  "language_info": {
   "codemirror_mode": {
    "name": "ipython",
    "version": 3
   },
   "file_extension": ".py",
   "mimetype": "text/x-python",
   "name": "python",
   "nbconvert_exporter": "python",
   "pygments_lexer": "ipython3",
   "version": "3.13.7"
  }
 },
 "nbformat": 4,
 "nbformat_minor": 5
}
