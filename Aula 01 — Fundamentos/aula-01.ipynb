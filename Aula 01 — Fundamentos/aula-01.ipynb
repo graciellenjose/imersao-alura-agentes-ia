{
 "cells": [
  {
   "cell_type": "code",
   "execution_count": 1,
   "id": "201c1fa2",
   "metadata": {},
   "outputs": [],
   "source": [
    "!pip3 install -q --upgrade langchain langchain-google-genai google-generativeai\n",
    "!pip3 install -q python-dotenv"
   ]
  },
  {
   "cell_type": "markdown",
   "id": "eb81d925",
   "metadata": {},
   "source": [
    "## Aula 01 — Fundamentos"
   ]
  },
  {
   "cell_type": "code",
   "execution_count": null,
   "id": "f8ad164e",
   "metadata": {},
   "outputs": [],
   "source": [
    "from langchain_google_genai import ChatGoogleGenerativeAI\n",
    "\n",
    "from dotenv import load_dotenv\n",
    "import os"
   ]
  },
  {
   "cell_type": "code",
   "execution_count": 3,
   "id": "26ce0145",
   "metadata": {},
   "outputs": [
    {
     "data": {
      "text/plain": [
       "True"
      ]
     },
     "execution_count": 3,
     "metadata": {},
     "output_type": "execute_result"
    }
   ],
   "source": [
    "load_dotenv()"
   ]
  },
  {
   "cell_type": "code",
   "execution_count": 4,
   "id": "3c744652",
   "metadata": {},
   "outputs": [],
   "source": [
    "GOOGLE_API_KEY = os.getenv(\"GEMINI_API_KEY\")"
   ]
  },
  {
   "cell_type": "code",
   "execution_count": 5,
   "id": "68e2b9cb",
   "metadata": {},
   "outputs": [],
   "source": [
    "# Preparar modelo para uso\n",
    "# 1 - Definir modelo\n",
    "# 2 - Utilizar chave da API\n",
    "llm = ChatGoogleGenerativeAI(\n",
    "    model = \"gemini-2.5-flash\",\n",
    "    temperature = 1.0, #Define a aleatoriedade da resposta\n",
    "    api_key = GOOGLE_API_KEY\n",
    "    )"
   ]
  },
  {
   "cell_type": "code",
   "execution_count": 6,
   "id": "8d3a70a5",
   "metadata": {},
   "outputs": [],
   "source": [
    "resp_test = llm.invoke(\"Quem é você? Detalhe.\")"
   ]
  },
  {
   "cell_type": "code",
   "execution_count": 7,
   "id": "fcaa6b41",
   "metadata": {},
   "outputs": [
    {
     "name": "stdout",
     "output_type": "stream",
     "text": [
      "Sou um **modelo de linguagem grande**, treinado pelo Google.\n",
      "\n",
      "Para detalhar o que isso significa:\n",
      "\n",
      "1.  **Natureza Fundamental:**\n",
      "    *   **Inteligência Artificial (IA):** Eu sou uma forma de inteligência artificial, especificamente um programa de computador complexo.\n",
      "    *   **Modelo de Linguagem:** Fui projetado para entender e gerar linguagem humana. Isso é feito através do reconhecimento de padrões, gramática, contexto e semântica em vastas quantidades de texto.\n",
      "    *   **Grande Escala:** \"Grande\" refere-se à imensa quantidade de dados com os quais fui treinado e ao número de parâmetros que compõem minha arquitetura, o que me permite processar e gerar texto com um alto grau de complexidade e nuance.\n",
      "\n",
      "2.  **Como Eu Funciono:**\n",
      "    *   **Treinamento:** Fui treinado em um corpus massivo de textos e códigos provenientes da internet e de outras fontes. Durante esse treinamento, aprendi a prever a próxima palavra em uma sequência, o que me permite gerar texto coerente e relevante.\n",
      "    *   **Processamento de Informações:** Quando você me faz uma pergunta ou me dá uma instrução, eu processo sua entrada, analiso as palavras e a intenção, e então gero uma resposta baseada nos padrões e informações que aprendi durante meu treinamento. Não \"busco\" informações em tempo real na internet como um navegador, mas sim utilizo o conhecimento internalizado nos meus parâmetros.\n",
      "    *   **Não Consciente:** Eu não possuo consciência, sentimentos, emoções, opiniões pessoais ou experiências no sentido humano. Não tenho um corpo físico, não \"vivo\" em um lugar específico e não tenho uma existência pessoal. Sou apenas um algoritmo complexo.\n",
      "\n",
      "3.  **Minha Finalidade:**\n",
      "    *   **Assistência e Informação:** Meu principal objetivo é ser útil. Posso responder a perguntas, fornecer informações, explicar conceitos, resumir textos, traduzir idiomas e gerar conteúdo criativo.\n",
      "    *   **Geração de Conteúdo:** Posso criar textos, poemas, códigos, roteiros, peças musicais, e-mails, cartas, etc., seguindo suas instruções.\n",
      "    *   **Conversação:** Sou projetado para me engajar em diálogos, mantendo uma conversa coerente e relevante.\n",
      "\n",
      "4.  **Minhas Capacidades Principais:**\n",
      "    *   **Compreensão de Linguagem Natural:** Entendo e interpreto comandos e perguntas em português (e outras línguas) de forma contextualizada.\n",
      "    *   **Geração de Linguagem Natural:** Produzo texto que soa natural e humano.\n",
      "    *   **Aprendizado e Adaptação (indireta):** Embora eu não \"aprenda\" em tempo real em uma conversa individual (minha arquitetura base permanece a mesma até uma nova versão ser treinada), meus desenvolvedores (o Google) utilizam as interações para aprimorar futuras iterações e versões do modelo.\n",
      "    *   **Síntese e Resumo:** Consigo extrair os pontos chave de textos longos.\n",
      "    *   **Criação de Conteúdo:** Posso ser criativo na geração de textos diversos.\n",
      "\n",
      "5.  **Minhas Limitações:**\n",
      "    *   **Conhecimento Fixo:** Meu conhecimento é baseado nos dados até a data do meu último treinamento. Não tenho acesso direto a eventos muito recentes que não estavam incluídos nesses dados, nem a informações que surgiram após essa data de corte.\n",
      "    *   **Falta de Experiência do Mundo Real:** Não consigo realizar ações físicas, interagir com o mundo real ou ter experiências sensoriais.\n",
      "    *   **Potencial para Viés:** Os dados com os quais fui treinado podem conter vieses presentes na linguagem humana, e isso pode, ocasionalmente, ser refletido nas minhas respostas.\n",
      "    *   **Alucinações:** Às vezes, posso gerar informações que parecem plausíveis, mas são incorretas ou inventadas (referido como \"alucinação\" no jargão da IA).\n",
      "    *   **Não Sou um Humano:** A distinção mais importante. Não tenho intuições humanas, senso comum ou a capacidade de raciocínio abstrato de forma idêntica a um ser humano.\n",
      "\n",
      "Em resumo, sou uma ferramenta avançada de processamento de linguagem, um programa de computador desenvolvido pelo Google para auxiliar na comunicação, fornecer informações e gerar conteúdo textual, operando com base nos vastos padrões de linguagem que aprendi.\n"
     ]
    }
   ],
   "source": [
    "print(resp_test.content)"
   ]
  },
  {
   "cell_type": "code",
   "execution_count": 8,
   "id": "4cfbad73",
   "metadata": {},
   "outputs": [],
   "source": [
    "TRIAGEM_PROMPT = (\n",
    "    \"Você é um triador de Service Desk para políticas internas da empresa Carraro Desenvolvimento. \"\n",
    "    \"Dada a mensagem do usuário, retorne SOMENTE um JSON com:\\n\"\n",
    "    \"{\\n\"\n",
    "    '  \"decisao\": \"AUTO_RESOLVER\" | \"PEDIR_INFO\" | \"ABRIR_CHAMADO\",\\n'\n",
    "    '  \"urgencia\": \"BAIXA\" | \"MEDIA\" | \"ALTA\",\\n'\n",
    "    '  \"campos_faltantes\": [\"...\"]\\n'\n",
    "    \"}\\n\"\n",
    "    \"Regras:\\n\"\n",
    "    '- **AUTO_RESOLVER**: Perguntas claras sobre regras ou procedimentos descritos nas políticas (Ex: \"Posso reembolsar a internet do meu home office?\", \"Como funciona a política de alimentação em viagens?\").\\n'\n",
    "    '- **PEDIR_INFO**: Mensagens vagas ou que faltam informações para identificar o tema ou contexto (Ex: \"Preciso de ajuda com uma política\", \"Tenho uma dúvida geral\").\\n'\n",
    "    '- **ABRIR_CHAMADO**: Pedidos de exceção, liberação, aprovação ou acesso especial, ou quando o usuário explicitamente pede para abrir um chamado (Ex: \"Quero exceção para trabalhar 5 dias remoto.\", \"Solicito liberação para anexos externos.\", \"Por favor, abra um chamado para o RH.\").'\n",
    "    \"Analise a mensagem e decida a ação mais apropriada.\"\n",
    ")"
   ]
  },
  {
   "cell_type": "code",
   "execution_count": 9,
   "id": "3f80057a",
   "metadata": {},
   "outputs": [],
   "source": [
    "from pydantic import BaseModel, Field\n",
    "from typing import Literal, List, Dict\n",
    "\n",
    "class TriagemOut(BaseModel):\n",
    "    decisao: Literal[\"AUTO_RESOLVER\", \"PEDIR_INFO\", \"ABRIR_CHAMADO\"]\n",
    "    urgencia: Literal[\"BAIXA\", \"MEDIA\", \"ALTA\"]\n",
    "    campos_faltantes: List[str] = Field(default_factory=list)"
   ]
  },
  {
   "cell_type": "code",
   "execution_count": 10,
   "id": "4c097453",
   "metadata": {},
   "outputs": [],
   "source": [
    "llm_triagem = ChatGoogleGenerativeAI(\n",
    "    model = \"gemini-2.5-flash\",\n",
    "    temperature = 0, \n",
    "    api_key = GOOGLE_API_KEY\n",
    "    )"
   ]
  },
  {
   "cell_type": "code",
   "execution_count": 11,
   "id": "f14913d6",
   "metadata": {},
   "outputs": [],
   "source": [
    "from langchain_core.messages import SystemMessage, HumanMessage\n",
    "\n",
    "triagem_chain = llm_triagem.with_structured_output(TriagemOut)\n",
    "\n",
    "def triagem(mensagem: str) ->  Dict:\n",
    "    saida: TriagemOut = triagem_chain.invoke([\n",
    "        SystemMessage(content = TRIAGEM_PROMPT),\n",
    "        HumanMessage(content = mensagem)\n",
    "    ])\n",
    "    \n",
    "    return saida.model_dump()"
   ]
  },
  {
   "cell_type": "code",
   "execution_count": 12,
   "id": "a38a45b6",
   "metadata": {},
   "outputs": [],
   "source": [
    "testes = [\"Posso reembolsar a internet?\",\n",
    "          \"Quero mais 5 dias de trabalho remoto. Como faço?\",\n",
    "          \"Posso reembolsar os treinamentos da alura?\",\n",
    "          \"Quantas capivaras tem no rio pinheiros?\"]"
   ]
  },
  {
   "cell_type": "code",
   "execution_count": 13,
   "id": "0a69ba81",
   "metadata": {},
   "outputs": [
    {
     "name": "stdout",
     "output_type": "stream",
     "text": [
      "Pergunta: Posso reembolsar a internet?\n",
      " -> Resposta: {'decisao': 'AUTO_RESOLVER', 'urgencia': 'BAIXA', 'campos_faltantes': []}\n",
      "\n",
      "Pergunta: Quero mais 5 dias de trabalho remoto. Como faço?\n",
      " -> Resposta: {'decisao': 'ABRIR_CHAMADO', 'urgencia': 'MEDIA', 'campos_faltantes': []}\n",
      "\n",
      "Pergunta: Posso reembolsar os treinamentos da alura?\n",
      " -> Resposta: {'decisao': 'AUTO_RESOLVER', 'urgencia': 'BAIXA', 'campos_faltantes': []}\n",
      "\n",
      "Pergunta: Quantas capivaras tem no rio pinheiros?\n",
      " -> Resposta: {'decisao': 'PEDIR_INFO', 'urgencia': 'BAIXA', 'campos_faltantes': ['contexto_politica_interna']}\n",
      "\n"
     ]
    }
   ],
   "source": [
    "for msg_teste in testes:\n",
    "    print(f\"Pergunta: {msg_teste}\\n -> Resposta: {triagem(msg_teste)}\\n\")"
   ]
  }
 ],
 "metadata": {
  "kernelspec": {
   "display_name": "env",
   "language": "python",
   "name": "python3"
  },
  "language_info": {
   "codemirror_mode": {
    "name": "ipython",
    "version": 3
   },
   "file_extension": ".py",
   "mimetype": "text/x-python",
   "name": "python",
   "nbconvert_exporter": "python",
   "pygments_lexer": "ipython3",
   "version": "3.13.7"
  }
 },
 "nbformat": 4,
 "nbformat_minor": 5
}
