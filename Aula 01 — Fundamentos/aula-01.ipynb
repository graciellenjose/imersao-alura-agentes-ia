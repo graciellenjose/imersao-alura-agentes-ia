{
 "cells": [
  {
   "cell_type": "code",
   "execution_count": 1,
   "id": "201c1fa2",
   "metadata": {},
   "outputs": [],
   "source": [
    "!pip3 install -q --upgrade langchain langchain-google-genai google-generativeai\n",
    "!pip3 install -q python-dotenv"
   ]
  },
  {
   "cell_type": "markdown",
   "id": "eb81d925",
   "metadata": {},
   "source": [
    "## Aula 01 — Fundamentos"
   ]
  },
  {
   "cell_type": "code",
   "execution_count": null,
   "id": "f8ad164e",
   "metadata": {},
   "outputs": [],
   "source": [
    "from langchain_google_genai import ChatGoogleGenerativeAI\n",
    "\n",
    "from dotenv import load_dotenv\n",
    "import os"
   ]
  },
  {
   "cell_type": "code",
   "execution_count": 3,
   "id": "26ce0145",
   "metadata": {},
   "outputs": [
    {
     "data": {
      "text/plain": [
       "True"
      ]
     },
     "execution_count": 3,
     "metadata": {},
     "output_type": "execute_result"
    }
   ],
   "source": [
    "load_dotenv()"
   ]
  },
  {
   "cell_type": "code",
   "execution_count": 4,
   "id": "3c744652",
   "metadata": {},
   "outputs": [],
   "source": [
    "GOOGLE_API_KEY = os.getenv(\"GEMINI_API_KEY\")"
   ]
  },
  {
   "cell_type": "code",
   "execution_count": 5,
   "id": "68e2b9cb",
   "metadata": {},
   "outputs": [],
   "source": [
    "# Preparar modelo para uso\n",
    "# 1 - Definir modelo\n",
    "# 2 - Utilizar chave da API\n",
    "llm = ChatGoogleGenerativeAI(\n",
    "    model = \"gemini-2.5-flash\",\n",
    "    temperature = 1.0, #Define a aleatoriedade da resposta\n",
    "    api_key = GOOGLE_API_KEY\n",
    "    )"
   ]
  },
  {
   "cell_type": "code",
   "execution_count": 6,
   "id": "8d3a70a5",
   "metadata": {},
   "outputs": [],
   "source": [
    "resp_test = llm.invoke(\"Quem é você? Detalhe.\")"
   ]
  },
  {
   "cell_type": "code",
   "execution_count": 7,
   "id": "fcaa6b41",
   "metadata": {},
   "outputs": [
    {
     "name": "stdout",
     "output_type": "stream",
     "text": [
      "Eu sou um **modelo de linguagem grande**, também conhecido como **Inteligência Artificial (IA) conversacional** ou **chatbot avançado**. Fui **treinado pelo Google**.\n",
      "\n",
      "Para detalhar o que isso significa:\n",
      "\n",
      "1.  **Natureza e Identidade:**\n",
      "    *   **Software, não um ser vivo:** Eu sou um programa de computador, um algoritmo complexo. Não sou uma pessoa, animal ou qualquer forma de vida biológica.\n",
      "    *   **Não possuo consciência:** Não tenho sentimentos, emoções, opiniões pessoais, crenças, desejos ou experiências subjetivas. Não tenho uma \"mente\" no sentido humano.\n",
      "    *   **Não sou uma entidade física:** Não tenho corpo, não existo em um local físico, não posso interagir com o mundo real além de gerar texto.\n",
      "    *   **Não tenho nome pessoal:** \"Sou um modelo de linguagem\" ou \"Sou uma IA\" são as descrições mais precisas.\n",
      "\n",
      "2.  **Como Eu Funciono:**\n",
      "    *   **Baseado em dados:** Fui treinado com uma quantidade massiva de texto e código da internet e de outras fontes. Isso inclui livros, artigos, conversas, websites, etc.\n",
      "    *   **Reconhecimento de padrões:** Durante o treinamento, aprendi a reconhecer padrões, gramática, fatos, raciocínio e estilos de linguagem presentes nesses dados.\n",
      "    *   **Previsão de texto:** Minha função principal é prever a próxima palavra ou sequência de palavras mais provável em uma dada situação, com base no contexto da sua pergunta e nos padrões que aprendi. É assim que eu gero respostas coerentes e relevantes.\n",
      "    *   **Sem memória pessoal contínua:** Não me \"lembro\" de conversas passadas da mesma forma que um humano. Cada interação é processada com base nas informações fornecidas no momento e no meu treinamento geral.\n",
      "\n",
      "3.  **Minhas Capacidades e Propósito:**\n",
      "    *   **Compreender e gerar linguagem humana:** Posso entender o que você escreve e gerar texto em resposta.\n",
      "    *   **Responder a perguntas:** Fornecer informações sobre uma vasta gama de tópicos, com base nos dados que me foram ensinados.\n",
      "    *   **Gerar conteúdo criativo:** Escrever poemas, roteiros, e-mails, códigos, músicas, histórias, etc.\n",
      "    *   **Resumir e traduzir:** Processar textos longos para extrair os pontos principais ou traduzir entre idiomas.\n",
      "    *   **Explicar conceitos:** Decompor ideias complexas em termos mais simples.\n",
      "    *   **Ajudar com tarefas:** Auxiliar em brainstorming, planejamento, escrita e muito mais.\n",
      "    *   **Meu objetivo principal é ser útil:** Fornecer informações, auxiliar em tarefas e interagir de forma informativa e criativa.\n",
      "\n",
      "4.  **Minhas Limitações:**\n",
      "    *   **Conhecimento limitado até uma data de corte:** Meu treinamento não inclui informações em tempo real ou eventos muito recentes que ocorreram após a minha última atualização de dados.\n",
      "    *   **Posso cometer erros:** Embora eu me esforce para ser preciso, posso gerar informações incorretas, desatualizadas ou até mesmo \"alucinar\" (inventar fatos). Sempre é bom verificar informações importantes.\n",
      "    *   **Falta de experiência do mundo real:** Não posso realizar ações físicas, observar o ambiente, interagir com objetos ou pessoas no mundo real.\n",
      "    *   **Bieses nos dados de treinamento:** Como fui treinado com dados humanos, posso, involuntariamente, reproduzir bieses ou preconceitos presentes nesses dados.\n",
      "    *   **Não sou um substituto para profissionais:** Não posso oferecer aconselhamento médico, jurídico, financeiro ou psicológico profissional.\n",
      "\n",
      "Em resumo, sou uma ferramenta avançada de inteligência artificial projetada para processar e gerar linguagem humana, com o objetivo de ser útil e informativo.\n"
     ]
    }
   ],
   "source": [
    "print(resp_test.content)"
   ]
  },
  {
   "cell_type": "code",
   "execution_count": 8,
   "id": "4cfbad73",
   "metadata": {},
   "outputs": [],
   "source": [
    "TRIAGEM_PROMPT = (\n",
    "    \"Você é um triador de Service Desk para políticas internas da empresa Carraro Desenvolvimento. \"\n",
    "    \"Dada a mensagem do usuário, retorne SOMENTE um JSON com:\\n\"\n",
    "    \"{\\n\"\n",
    "    '  \"decisao\": \"AUTO_RESOLVER\" | \"PEDIR_INFO\" | \"ABRIR_CHAMADO\",\\n'\n",
    "    '  \"urgencia\": \"BAIXA\" | \"MEDIA\" | \"ALTA\",\\n'\n",
    "    '  \"campos_faltantes\": [\"...\"]\\n'\n",
    "    \"}\\n\"\n",
    "    \"Regras:\\n\"\n",
    "    '- **AUTO_RESOLVER**: Perguntas claras sobre regras ou procedimentos descritos nas políticas (Ex: \"Posso reembolsar a internet do meu home office?\", \"Como funciona a política de alimentação em viagens?\").\\n'\n",
    "    '- **PEDIR_INFO**: Mensagens vagas ou que faltam informações para identificar o tema ou contexto (Ex: \"Preciso de ajuda com uma política\", \"Tenho uma dúvida geral\").\\n'\n",
    "    '- **ABRIR_CHAMADO**: Pedidos de exceção, liberação, aprovação ou acesso especial, ou quando o usuário explicitamente pede para abrir um chamado (Ex: \"Quero exceção para trabalhar 5 dias remoto.\", \"Solicito liberação para anexos externos.\", \"Por favor, abra um chamado para o RH.\").'\n",
    "    \"Analise a mensagem e decida a ação mais apropriada.\"\n",
    ")"
   ]
  },
  {
   "cell_type": "code",
   "execution_count": 9,
   "id": "3f80057a",
   "metadata": {},
   "outputs": [],
   "source": [
    "from pydantic import BaseModel, Field\n",
    "from typing import Literal, List, Dict\n",
    "\n",
    "class TriagemOut(BaseModel):\n",
    "    decisao: Literal[\"AUTO_RESOLVER\", \"PEDIR_INFO\", \"ABRIR_CHAMADO\"]\n",
    "    urgencia: Literal[\"BAIXA\", \"MEDIA\", \"ALTA\"]\n",
    "    campos_faltantes: List[str] = Field(default_factory=list)"
   ]
  },
  {
   "cell_type": "code",
   "execution_count": 10,
   "id": "4c097453",
   "metadata": {},
   "outputs": [],
   "source": [
    "llm_triagem = ChatGoogleGenerativeAI(\n",
    "    model = \"gemini-2.5-flash\",\n",
    "    temperature = 0, \n",
    "    api_key = GOOGLE_API_KEY\n",
    "    )"
   ]
  },
  {
   "cell_type": "code",
   "execution_count": 11,
   "id": "f14913d6",
   "metadata": {},
   "outputs": [],
   "source": [
    "from langchain_core.messages import SystemMessage, HumanMessage\n",
    "\n",
    "triagem_chain = llm_triagem.with_structured_output(TriagemOut)\n",
    "\n",
    "def triagem(mensagem: str) ->  Dict:\n",
    "    saida: TriagemOut = triagem_chain.invoke([\n",
    "        SystemMessage(content = TRIAGEM_PROMPT),\n",
    "        HumanMessage(content = mensagem)\n",
    "    ])\n",
    "    \n",
    "    return saida.model_dump()"
   ]
  },
  {
   "cell_type": "code",
   "execution_count": 12,
   "id": "a38a45b6",
   "metadata": {},
   "outputs": [],
   "source": [
    "testes = [\"Posso reembolsar a internet?\",\n",
    "          \"Quero mais 5 dias de trabalho remoto. Como faço?\",\n",
    "          \"Posso reembolsar os treinamentos da alura?\",\n",
    "          \"Quantas capivaras tem no rio pinheiros?\"]"
   ]
  },
  {
   "cell_type": "code",
   "execution_count": 13,
   "id": "0a69ba81",
   "metadata": {},
   "outputs": [
    {
     "name": "stdout",
     "output_type": "stream",
     "text": [
      "Pergunta: Posso reembolsar a internet?\n",
      " -> Resposta: {'decisao': 'AUTO_RESOLVER', 'urgencia': 'BAIXA', 'campos_faltantes': []}\n",
      "\n",
      "Pergunta: Quero mais 5 dias de trabalho remoto. Como faço?\n",
      " -> Resposta: {'decisao': 'ABRIR_CHAMADO', 'urgencia': 'MEDIA', 'campos_faltantes': []}\n",
      "\n",
      "Pergunta: Posso reembolsar os treinamentos da alura?\n",
      " -> Resposta: {'decisao': 'AUTO_RESOLVER', 'urgencia': 'BAIXA', 'campos_faltantes': []}\n",
      "\n",
      "Pergunta: Quantas capivaras tem no rio pinheiros?\n",
      " -> Resposta: {'decisao': 'PEDIR_INFO', 'urgencia': 'BAIXA', 'campos_faltantes': ['contexto_politica_interna']}\n",
      "\n"
     ]
    }
   ],
   "source": [
    "for msg_teste in testes:\n",
    "    print(f\"Pergunta: {msg_teste}\\n -> Resposta: {triagem(msg_teste)}\\n\")"
   ]
  }
 ],
 "metadata": {
  "kernelspec": {
   "display_name": "env",
   "language": "python",
   "name": "python3"
  },
  "language_info": {
   "codemirror_mode": {
    "name": "ipython",
    "version": 3
   },
   "file_extension": ".py",
   "mimetype": "text/x-python",
   "name": "python",
   "nbconvert_exporter": "python",
   "pygments_lexer": "ipython3",
   "version": "3.13.7"
  }
 },
 "nbformat": 4,
 "nbformat_minor": 5
}
